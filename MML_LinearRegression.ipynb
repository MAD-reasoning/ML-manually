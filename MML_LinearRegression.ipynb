{
 "cells": [
  {
   "cell_type": "code",
   "execution_count": 1,
   "metadata": {},
   "outputs": [],
   "source": [
    "import numpy as np\n",
    "import pandas as pd\n",
    "from sklearn.datasets import make_regression"
   ]
  },
  {
   "cell_type": "code",
   "execution_count": 2,
   "metadata": {},
   "outputs": [],
   "source": [
    "X, y = make_regression(n_samples=100, n_features=10, n_informative=7, noise=15, random_state=101)"
   ]
  },
  {
   "cell_type": "code",
   "execution_count": 3,
   "metadata": {
    "scrolled": true
   },
   "outputs": [
    {
     "data": {
      "text/plain": [
       "(100, 10)"
      ]
     },
     "execution_count": 3,
     "metadata": {},
     "output_type": "execute_result"
    }
   ],
   "source": [
    "X.shape"
   ]
  },
  {
   "cell_type": "code",
   "execution_count": 4,
   "metadata": {},
   "outputs": [
    {
     "data": {
      "text/plain": [
       "(100,)"
      ]
     },
     "execution_count": 4,
     "metadata": {},
     "output_type": "execute_result"
    }
   ],
   "source": [
    "y.shape"
   ]
  },
  {
   "cell_type": "code",
   "execution_count": 5,
   "metadata": {},
   "outputs": [],
   "source": [
    "from sklearn.model_selection import train_test_split\n",
    "X_train, X_test, y_train, y_test = train_test_split(X, y, test_size=0.2, random_state=101)"
   ]
  },
  {
   "cell_type": "code",
   "execution_count": 6,
   "metadata": {
    "code_folding": []
   },
   "outputs": [],
   "source": [
    "class LinearRegression():\n",
    "    \"\"\"\n",
    "    Simple Linear Regression.\n",
    "\n",
    "    Parameters\n",
    "    ----------\n",
    "    fit_intercept : boolean, optional, default True\n",
    "        whether to calculate the intercept for this model. If set\n",
    "        to False, no intercept will be used in calculations\n",
    "        (e.g. data is expected to be already centered).\n",
    "\n",
    "\n",
    "    Attributes\n",
    "    ----------\n",
    "    coef_ : array, shape (n_features, ) or (n_targets, n_features)\n",
    "        Estimated coefficients for the linear regression problem.\n",
    "        If multiple targets are passed during the fit (y 2D), this\n",
    "        is a 2D array of shape (n_targets, n_features), while if only\n",
    "        one target is passed, this is a 1D array of length n_features.\n",
    "\n",
    "    intercept_ : array\n",
    "        Independent term in the linear model.\n",
    "\n",
    "    Examples\n",
    "    --------\n",
    "    >>> import numpy as np\n",
    "    >>> class LinearRegression():\n",
    "            ...\n",
    "    >>> X = np.array([[1, 1], [1, 2], [2, 2], [2, 3]])\n",
    "    >>> # y = 1 * x_0 + 2 * x_1 + 3\n",
    "    >>> y = np.dot(X, np.array([1, 2])) + 3\n",
    "    >>> reg = LinearRegression().fit(X, y)\n",
    "    >>> reg.coef_\n",
    "    array([1., 2.])\n",
    "    >>> reg.intercept_\n",
    "    3.0000...\n",
    "    >>> reg.predict(np.array([[3, 5]]))\n",
    "    array([16.])\n",
    "\n",
    "    \"\"\"\n",
    "\n",
    "    def __init__(self, fit_intercept=True):\n",
    "        self.fit_intercept = fit_intercept\n",
    "    \n",
    "    \n",
    "    \n",
    "    def fit(self, X, y):\n",
    "        \"\"\"\n",
    "        Fit linear model.\n",
    "\n",
    "        Parameters\n",
    "        ----------\n",
    "        X : array-like or sparse matrix, shape (n_samples, n_features)\n",
    "            Training data\n",
    "\n",
    "        y : array_like, shape (n_samples, n_targets)\n",
    "            Target values.\n",
    "\n",
    "        Returns\n",
    "        -------\n",
    "        self : returns an instance of self.\n",
    "        \"\"\"\n",
    "        self.coef_ = np.dot(np.linalg.inv(np.dot(X.T, X)), np.dot(X.T, y))\n",
    "        \n",
    "        if self.fit_intercept:\n",
    "            self.intercept_ = np.mean(y) - np.dot(np.mean(X, axis=0), self.coef_)\n",
    "        else:\n",
    "            self.intercept_ = 0\n",
    "        \n",
    "        return self\n",
    "        \n",
    "        \n",
    "        \n",
    "    def predict(self, X):\n",
    "        \"\"\"\n",
    "        Predict using the linear model\n",
    "\n",
    "        Parameters\n",
    "        ----------\n",
    "        X : array_like or sparse matrix, shape (n_samples, n_features)\n",
    "        Samples.\n",
    "        \n",
    "        Returns\n",
    "        -------\n",
    "        C : array, shape (n_samples,)\n",
    "        Returns predicted values.\n",
    "        \"\"\"\n",
    "        return np.dot(X, self.coef_) + self.intercept_ "
   ]
  },
  {
   "cell_type": "code",
   "execution_count": 7,
   "metadata": {},
   "outputs": [],
   "source": [
    "model = LinearRegression(fit_intercept=False)"
   ]
  },
  {
   "cell_type": "code",
   "execution_count": 8,
   "metadata": {},
   "outputs": [
    {
     "data": {
      "text/plain": [
       "<__main__.LinearRegression at 0x2733ec06d30>"
      ]
     },
     "execution_count": 8,
     "metadata": {},
     "output_type": "execute_result"
    }
   ],
   "source": [
    "model.fit(X_train, y_train)"
   ]
  },
  {
   "cell_type": "code",
   "execution_count": 9,
   "metadata": {
    "scrolled": true
   },
   "outputs": [
    {
     "data": {
      "text/plain": [
       "array([ -85.17225599, -148.25394251,  -82.25805153, -126.06552119,\n",
       "       -263.90233207,  185.96451845, -318.96901139,   46.76700499,\n",
       "        103.86494961, -204.40329607,    4.68070966,   52.06632485,\n",
       "        145.59781783,  109.88883274,  175.43004808,   63.63163835,\n",
       "       -155.8602804 ,  126.52385261,  -54.29585915, -186.98656077])"
      ]
     },
     "execution_count": 9,
     "metadata": {},
     "output_type": "execute_result"
    }
   ],
   "source": [
    "y_pred = model.predict(X_test)\n",
    "y_pred"
   ]
  },
  {
   "cell_type": "code",
   "execution_count": 10,
   "metadata": {},
   "outputs": [
    {
     "data": {
      "text/plain": [
       "0"
      ]
     },
     "execution_count": 10,
     "metadata": {},
     "output_type": "execute_result"
    }
   ],
   "source": [
    "model.intercept_"
   ]
  },
  {
   "cell_type": "code",
   "execution_count": 11,
   "metadata": {},
   "outputs": [
    {
     "data": {
      "text/plain": [
       "array([91.77780593, 44.85931598, 59.06409957, 19.52408124, -1.99296354,\n",
       "        3.84298463, 84.91039697, -1.59262994, 93.93059401, -2.31692525])"
      ]
     },
     "execution_count": 11,
     "metadata": {},
     "output_type": "execute_result"
    }
   ],
   "source": [
    "model.coef_"
   ]
  },
  {
   "cell_type": "code",
   "execution_count": 12,
   "metadata": {},
   "outputs": [],
   "source": [
    "from sklearn import metrics"
   ]
  },
  {
   "cell_type": "code",
   "execution_count": 13,
   "metadata": {},
   "outputs": [],
   "source": [
    "mae = metrics.mean_absolute_error(y_test, y_pred)\n",
    "mse = metrics.mean_squared_error(y_test, y_pred)\n",
    "rmse = np.sqrt(mse)\n",
    "r2 = metrics.r2_score(y_test, y_pred)"
   ]
  },
  {
   "cell_type": "code",
   "execution_count": 14,
   "metadata": {},
   "outputs": [
    {
     "data": {
      "text/html": [
       "<div>\n",
       "<style scoped>\n",
       "    .dataframe tbody tr th:only-of-type {\n",
       "        vertical-align: middle;\n",
       "    }\n",
       "\n",
       "    .dataframe tbody tr th {\n",
       "        vertical-align: top;\n",
       "    }\n",
       "\n",
       "    .dataframe thead th {\n",
       "        text-align: right;\n",
       "    }\n",
       "</style>\n",
       "<table border=\"1\" class=\"dataframe\">\n",
       "  <thead>\n",
       "    <tr style=\"text-align: right;\">\n",
       "      <th></th>\n",
       "      <th>errors</th>\n",
       "    </tr>\n",
       "  </thead>\n",
       "  <tbody>\n",
       "    <tr>\n",
       "      <th>mean absolute error</th>\n",
       "      <td>15.563163</td>\n",
       "    </tr>\n",
       "    <tr>\n",
       "      <th>mean squared error</th>\n",
       "      <td>351.434663</td>\n",
       "    </tr>\n",
       "    <tr>\n",
       "      <th>root mean squared error</th>\n",
       "      <td>18.746591</td>\n",
       "    </tr>\n",
       "    <tr>\n",
       "      <th>r^2 score</th>\n",
       "      <td>0.982897</td>\n",
       "    </tr>\n",
       "  </tbody>\n",
       "</table>\n",
       "</div>"
      ],
      "text/plain": [
       "                             errors\n",
       "mean absolute error       15.563163\n",
       "mean squared error       351.434663\n",
       "root mean squared error   18.746591\n",
       "r^2 score                  0.982897"
      ]
     },
     "execution_count": 14,
     "metadata": {},
     "output_type": "execute_result"
    }
   ],
   "source": [
    "err = pd.DataFrame([mae, mse, rmse, r2], ['mean absolute error', 'mean squared error', 'root mean squared error', 'r^2 score'], ['errors'])\n",
    "err"
   ]
  },
  {
   "cell_type": "code",
   "execution_count": null,
   "metadata": {},
   "outputs": [],
   "source": []
  }
 ],
 "metadata": {
  "kernelspec": {
   "display_name": "Python 3",
   "language": "python",
   "name": "python3"
  },
  "language_info": {
   "codemirror_mode": {
    "name": "ipython",
    "version": 3
   },
   "file_extension": ".py",
   "mimetype": "text/x-python",
   "name": "python",
   "nbconvert_exporter": "python",
   "pygments_lexer": "ipython3",
   "version": "3.6.7"
  },
  "varInspector": {
   "cols": {
    "lenName": 16,
    "lenType": 16,
    "lenVar": 40
   },
   "kernels_config": {
    "python": {
     "delete_cmd_postfix": "",
     "delete_cmd_prefix": "del ",
     "library": "var_list.py",
     "varRefreshCmd": "print(var_dic_list())"
    },
    "r": {
     "delete_cmd_postfix": ") ",
     "delete_cmd_prefix": "rm(",
     "library": "var_list.r",
     "varRefreshCmd": "cat(var_dic_list()) "
    }
   },
   "types_to_exclude": [
    "module",
    "function",
    "builtin_function_or_method",
    "instance",
    "_Feature"
   ],
   "window_display": false
  }
 },
 "nbformat": 4,
 "nbformat_minor": 2
}
